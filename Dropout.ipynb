{
 "cells": [
  {
   "cell_type": "markdown",
   "metadata": {},
   "source": [
    "# Dropout\n",
    "\n",
    "In this notebook, you will implement dropout.  Then we will ask you to train a network with batchnorm and dropout, and acheive over 55% accuracy on CIFAR-10.\n",
    "\n",
    "CS231n has built a solid API for building these modular frameworks and training them, and we will use their very well implemented framework as opposed to \"reinventing the wheel.\"  This includes using their Solver, various utility functions, and their layer structure.  This also includes nndl.fc_net, nndl.layers, and nndl.layer_utils.  As in prior assignments, we thank Serena Yeung & Justin Johnson for permission to use code written for the CS 231n class (cs231n.stanford.edu).  "
   ]
  },
  {
   "cell_type": "code",
   "execution_count": 2,
   "metadata": {
    "collapsed": true
   },
   "outputs": [],
   "source": [
    "## Import and setups\n",
    "\n",
    "import time\n",
    "import numpy as np\n",
    "import matplotlib.pyplot as plt\n",
    "from nndl.fc_net import *\n",
    "from nndl.layers import *\n",
    "from utils.data_utils import get_CIFAR10_data\n",
    "from utils.gradient_check import eval_numerical_gradient, eval_numerical_gradient_array\n",
    "from utils.solver import Solver\n",
    "\n",
    "%matplotlib inline\n",
    "plt.rcParams['figure.figsize'] = (10.0, 8.0) # set default size of plots\n",
    "plt.rcParams['image.interpolation'] = 'nearest'\n",
    "plt.rcParams['image.cmap'] = 'gray'\n",
    "\n",
    "# for auto-reloading external modules\n",
    "# see http://stackoverflow.com/questions/1907993/autoreload-of-modules-in-ipython\n",
    "%load_ext autoreload\n",
    "%autoreload 2\n",
    "\n",
    "def rel_error(x, y):\n",
    "  \"\"\" returns relative error \"\"\"\n",
    "  return np.max(np.abs(x - y) / (np.maximum(1e-8, np.abs(x) + np.abs(y))))"
   ]
  },
  {
   "cell_type": "code",
   "execution_count": 3,
   "metadata": {},
   "outputs": [
    {
     "name": "stdout",
     "output_type": "stream",
     "text": [
      "X_train: (49000, 3, 32, 32) \n",
      "y_train: (49000,) \n",
      "X_val: (1000, 3, 32, 32) \n",
      "y_val: (1000,) \n",
      "X_test: (1000, 3, 32, 32) \n",
      "y_test: (1000,) \n"
     ]
    }
   ],
   "source": [
    "# Load the (preprocessed) CIFAR10 data.\n",
    "\n",
    "data = get_CIFAR10_data()\n",
    "for k in data.keys():\n",
    "  print('{}: {} '.format(k, data[k].shape))"
   ]
  },
  {
   "cell_type": "markdown",
   "metadata": {},
   "source": [
    "## Dropout forward pass\n",
    "\n",
    "Implement the training and test time dropout forward pass, `dropout_forward`, in `nndl/layers.py`. After that, test your implementation by running the following cell."
   ]
  },
  {
   "cell_type": "code",
   "execution_count": 4,
   "metadata": {},
   "outputs": [
    {
     "name": "stdout",
     "output_type": "stream",
     "text": [
      "Running tests with p =  0.3\n",
      "Mean of input:  9.998354679730834\n",
      "Mean of train-time output:  10.020616762699989\n",
      "Mean of test-time output:  9.998354679730834\n",
      "Fraction of train-time output set to zero:  0.298436\n",
      "Fraction of test-time output set to zero:  0.0\n",
      "Running tests with p =  0.6\n",
      "Mean of input:  9.998354679730834\n",
      "Mean of train-time output:  10.022052127066873\n",
      "Mean of test-time output:  9.998354679730834\n",
      "Fraction of train-time output set to zero:  0.599168\n",
      "Fraction of test-time output set to zero:  0.0\n",
      "Running tests with p =  0.75\n",
      "Mean of input:  9.998354679730834\n",
      "Mean of train-time output:  9.993980233443681\n",
      "Mean of test-time output:  9.998354679730834\n",
      "Fraction of train-time output set to zero:  0.750176\n",
      "Fraction of test-time output set to zero:  0.0\n"
     ]
    }
   ],
   "source": [
    "x = np.random.randn(500, 500) + 10\n",
    "\n",
    "for p in [0.3, 0.6, 0.75]:\n",
    "  out, _ = dropout_forward(x, {'mode': 'train', 'p': p})\n",
    "  out_test, _ = dropout_forward(x, {'mode': 'test', 'p': p})\n",
    "\n",
    "  print('Running tests with p = ', p)\n",
    "  print('Mean of input: ', x.mean())\n",
    "  print('Mean of train-time output: ', out.mean())\n",
    "  print('Mean of test-time output: ', out_test.mean())\n",
    "  print('Fraction of train-time output set to zero: ', (out == 0).mean())\n",
    "  print('Fraction of test-time output set to zero: ', (out_test == 0).mean())"
   ]
  },
  {
   "cell_type": "markdown",
   "metadata": {},
   "source": [
    "## Dropout backward pass\n",
    "\n",
    "Implement the backward pass, `dropout_backward`, in `nndl/layers.py`.  After that, test your gradients by running the following cell:"
   ]
  },
  {
   "cell_type": "code",
   "execution_count": 5,
   "metadata": {},
   "outputs": [
    {
     "name": "stdout",
     "output_type": "stream",
     "text": [
      "dx relative error:  1.8929069710272396e-11\n"
     ]
    }
   ],
   "source": [
    "x = np.random.randn(10, 10) + 10\n",
    "dout = np.random.randn(*x.shape)\n",
    "\n",
    "dropout_param = {'mode': 'train', 'p': 0.8, 'seed': 123}\n",
    "out, cache = dropout_forward(x, dropout_param)\n",
    "dx = dropout_backward(dout, cache)\n",
    "dx_num = eval_numerical_gradient_array(lambda xx: dropout_forward(xx, dropout_param)[0], x, dout)\n",
    "\n",
    "print('dx relative error: ', rel_error(dx, dx_num))"
   ]
  },
  {
   "cell_type": "markdown",
   "metadata": {},
   "source": [
    "## Implement a fully connected neural network with dropout layers\n",
    "\n",
    "Modify the `FullyConnectedNet()` class in `nndl/fc_net.py` to incorporate dropout.  A dropout layer should be incorporated after every ReLU layer.  Concretely, there shouldn't be a dropout at the output layer since there is no ReLU at the output layer. You will need to modify the class in the following areas:\n",
    "\n",
    "(1) In the forward pass, you will need to incorporate a dropout layer after every relu layer.\n",
    "\n",
    "(2) In the backward pass, you will need to incorporate a dropout backward pass layer.\n",
    "\n",
    "Check your implementation by running the following code.  Our W1 gradient relative error is on the order of 1e-6 (the largest of all the relative errors)."
   ]
  },
  {
   "cell_type": "code",
   "execution_count": 6,
   "metadata": {},
   "outputs": [
    {
     "name": "stdout",
     "output_type": "stream",
     "text": [
      "Running check with dropout =  0\n",
      "Initial loss:  2.3051948273987857\n",
      "W1 relative error: 2.5272575344376073e-07\n",
      "W2 relative error: 1.5034484929313676e-05\n",
      "W3 relative error: 2.753446833630168e-07\n",
      "b1 relative error: 2.936957476400148e-06\n",
      "b2 relative error: 5.051339805546953e-08\n",
      "b3 relative error: 1.1740467838205477e-10\n",
      "\n",
      "\n",
      "Running check with dropout =  0.25\n",
      "Initial loss:  2.29898614757146\n",
      "W1 relative error: 9.737733598900162e-07\n",
      "W2 relative error: 5.073657932383196e-08\n",
      "W3 relative error: 3.042456438962418e-08\n",
      "b1 relative error: 2.0056188034974597e-08\n",
      "b2 relative error: 1.897778283870511e-09\n",
      "b3 relative error: 1.302003889798156e-10\n",
      "\n",
      "\n",
      "Running check with dropout =  0.5\n",
      "Initial loss:  2.302437587710995\n",
      "W1 relative error: 4.553387957138422e-08\n",
      "W2 relative error: 2.974218050584597e-08\n",
      "W3 relative error: 4.3413247403122424e-07\n",
      "b1 relative error: 1.872462967441693e-08\n",
      "b2 relative error: 5.045591219274328e-09\n",
      "b3 relative error: 8.009887154529434e-11\n",
      "\n",
      "\n"
     ]
    }
   ],
   "source": [
    "N, D, H1, H2, C = 2, 15, 20, 30, 10\n",
    "X = np.random.randn(N, D)\n",
    "y = np.random.randint(C, size=(N,))\n",
    "\n",
    "for dropout in [0, 0.25, 0.5]:\n",
    "  print('Running check with dropout = ', dropout)\n",
    "  model = FullyConnectedNet([H1, H2], input_dim=D, num_classes=C,\n",
    "                            weight_scale=5e-2, dtype=np.float64,\n",
    "                            dropout=dropout, seed=123)\n",
    "\n",
    "  loss, grads = model.loss(X, y)\n",
    "  print('Initial loss: ', loss)\n",
    "\n",
    "  for name in sorted(grads):\n",
    "    f = lambda _: model.loss(X, y)[0]\n",
    "    grad_num = eval_numerical_gradient(f, model.params[name], verbose=False, h=1e-5)\n",
    "    print('{} relative error: {}'.format(name, rel_error(grad_num, grads[name])))\n",
    "  print('\\n')"
   ]
  },
  {
   "cell_type": "markdown",
   "metadata": {},
   "source": [
    "## Dropout as a regularizer\n",
    "\n",
    "In class, we claimed that dropout acts as a regularizer by effectively bagging.  To check this, we will train two small networks, one with dropout and one without dropout.  "
   ]
  },
  {
   "cell_type": "code",
   "execution_count": 7,
   "metadata": {},
   "outputs": [
    {
     "name": "stdout",
     "output_type": "stream",
     "text": [
      "(Iteration 1 / 125) loss: 2.300804\n",
      "(Epoch 0 / 25) train acc: 0.220000; val_acc: 0.168000\n",
      "(Epoch 1 / 25) train acc: 0.188000; val_acc: 0.147000\n",
      "(Epoch 2 / 25) train acc: 0.266000; val_acc: 0.200000\n",
      "(Epoch 3 / 25) train acc: 0.338000; val_acc: 0.262000\n",
      "(Epoch 4 / 25) train acc: 0.378000; val_acc: 0.278000\n",
      "(Epoch 5 / 25) train acc: 0.428000; val_acc: 0.297000\n",
      "(Epoch 6 / 25) train acc: 0.468000; val_acc: 0.323000\n",
      "(Epoch 7 / 25) train acc: 0.494000; val_acc: 0.287000\n",
      "(Epoch 8 / 25) train acc: 0.566000; val_acc: 0.328000\n",
      "(Epoch 9 / 25) train acc: 0.572000; val_acc: 0.322000\n",
      "(Epoch 10 / 25) train acc: 0.622000; val_acc: 0.324000\n",
      "(Epoch 11 / 25) train acc: 0.670000; val_acc: 0.279000\n",
      "(Epoch 12 / 25) train acc: 0.710000; val_acc: 0.338000\n",
      "(Epoch 13 / 25) train acc: 0.746000; val_acc: 0.319000\n",
      "(Epoch 14 / 25) train acc: 0.792000; val_acc: 0.307000\n",
      "(Epoch 15 / 25) train acc: 0.834000; val_acc: 0.297000\n",
      "(Epoch 16 / 25) train acc: 0.876000; val_acc: 0.327000\n",
      "(Epoch 17 / 25) train acc: 0.886000; val_acc: 0.320000\n",
      "(Epoch 18 / 25) train acc: 0.918000; val_acc: 0.314000\n",
      "(Epoch 19 / 25) train acc: 0.922000; val_acc: 0.290000\n",
      "(Epoch 20 / 25) train acc: 0.944000; val_acc: 0.306000\n",
      "(Iteration 101 / 125) loss: 0.156105\n",
      "(Epoch 21 / 25) train acc: 0.968000; val_acc: 0.302000\n",
      "(Epoch 22 / 25) train acc: 0.978000; val_acc: 0.302000\n",
      "(Epoch 23 / 25) train acc: 0.976000; val_acc: 0.289000\n",
      "(Epoch 24 / 25) train acc: 0.986000; val_acc: 0.285000\n",
      "(Epoch 25 / 25) train acc: 0.978000; val_acc: 0.311000\n",
      "(Iteration 1 / 125) loss: 2.306395\n",
      "(Epoch 0 / 25) train acc: 0.120000; val_acc: 0.131000\n",
      "(Epoch 1 / 25) train acc: 0.170000; val_acc: 0.166000\n",
      "(Epoch 2 / 25) train acc: 0.246000; val_acc: 0.208000\n",
      "(Epoch 3 / 25) train acc: 0.240000; val_acc: 0.193000\n",
      "(Epoch 4 / 25) train acc: 0.234000; val_acc: 0.203000\n",
      "(Epoch 5 / 25) train acc: 0.234000; val_acc: 0.207000\n",
      "(Epoch 6 / 25) train acc: 0.238000; val_acc: 0.202000\n",
      "(Epoch 7 / 25) train acc: 0.276000; val_acc: 0.224000\n",
      "(Epoch 8 / 25) train acc: 0.288000; val_acc: 0.249000\n",
      "(Epoch 9 / 25) train acc: 0.314000; val_acc: 0.250000\n",
      "(Epoch 10 / 25) train acc: 0.324000; val_acc: 0.267000\n",
      "(Epoch 11 / 25) train acc: 0.360000; val_acc: 0.263000\n",
      "(Epoch 12 / 25) train acc: 0.360000; val_acc: 0.293000\n",
      "(Epoch 13 / 25) train acc: 0.352000; val_acc: 0.266000\n",
      "(Epoch 14 / 25) train acc: 0.366000; val_acc: 0.273000\n",
      "(Epoch 15 / 25) train acc: 0.390000; val_acc: 0.280000\n",
      "(Epoch 16 / 25) train acc: 0.438000; val_acc: 0.294000\n",
      "(Epoch 17 / 25) train acc: 0.442000; val_acc: 0.293000\n",
      "(Epoch 18 / 25) train acc: 0.416000; val_acc: 0.303000\n",
      "(Epoch 19 / 25) train acc: 0.400000; val_acc: 0.271000\n",
      "(Epoch 20 / 25) train acc: 0.384000; val_acc: 0.280000\n",
      "(Iteration 101 / 125) loss: 1.881304\n",
      "(Epoch 21 / 25) train acc: 0.412000; val_acc: 0.290000\n",
      "(Epoch 22 / 25) train acc: 0.460000; val_acc: 0.303000\n",
      "(Epoch 23 / 25) train acc: 0.494000; val_acc: 0.309000\n",
      "(Epoch 24 / 25) train acc: 0.474000; val_acc: 0.312000\n",
      "(Epoch 25 / 25) train acc: 0.488000; val_acc: 0.311000\n"
     ]
    }
   ],
   "source": [
    "# Train two identical nets, one with dropout and one without\n",
    "\n",
    "num_train = 500\n",
    "small_data = {\n",
    "  'X_train': data['X_train'][:num_train],\n",
    "  'y_train': data['y_train'][:num_train],\n",
    "  'X_val': data['X_val'],\n",
    "  'y_val': data['y_val'],\n",
    "}\n",
    "\n",
    "solvers = {}\n",
    "dropout_choices = [0, 0.6]\n",
    "for dropout in dropout_choices:\n",
    "  model = FullyConnectedNet([100, 100, 100], dropout=dropout)\n",
    "\n",
    "  solver = Solver(model, small_data,\n",
    "                  num_epochs=25, batch_size=100,\n",
    "                  update_rule='adam',\n",
    "                  optim_config={\n",
    "                    'learning_rate': 5e-4,\n",
    "                  },\n",
    "                  verbose=True, print_every=100)\n",
    "  solver.train()\n",
    "  solvers[dropout] = solver"
   ]
  },
  {
   "cell_type": "code",
   "execution_count": 8,
   "metadata": {},
   "outputs": [
    {
     "data": {
      "image/png": "[encoded data removed]",
      "text/plain": [
       "<Figure size 1500x1500 with 2 Axes>"
      ]
     },
     "metadata": {},
     "output_type": "display_data"
    }
   ],
   "source": [
    "# Plot train and validation accuracies of the two models\n",
    "\n",
    "train_accs = []\n",
    "val_accs = []\n",
    "for dropout in dropout_choices:\n",
    "  solver = solvers[dropout]\n",
    "  train_accs.append(solver.train_acc_history[-1])\n",
    "  val_accs.append(solver.val_acc_history[-1])\n",
    "\n",
    "plt.subplot(3, 1, 1)\n",
    "for dropout in dropout_choices:\n",
    "  plt.plot(solvers[dropout].train_acc_history, 'o', label='%.2f dropout' % dropout)\n",
    "plt.title('Train accuracy')\n",
    "plt.xlabel('Epoch')\n",
    "plt.ylabel('Accuracy')\n",
    "plt.legend(ncol=2, loc='lower right')\n",
    "  \n",
    "plt.subplot(3, 1, 2)\n",
    "for dropout in dropout_choices:\n",
    "  plt.plot(solvers[dropout].val_acc_history, 'o', label='%.2f dropout' % dropout)\n",
    "plt.title('Val accuracy')\n",
    "plt.xlabel('Epoch')\n",
    "plt.ylabel('Accuracy')\n",
    "plt.legend(ncol=2, loc='lower right')\n",
    "\n",
    "plt.gcf().set_size_inches(15, 15)\n",
    "plt.show()"
   ]
  },
  {
   "cell_type": "markdown",
   "metadata": {},
   "source": [
    "## Question\n",
    "\n",
    "Based off the results of this experiment, is dropout performing regularization?  Explain your answer."
   ]
  },
  {
   "cell_type": "markdown",
   "metadata": {},
   "source": [
    "## Answer:\n",
    "In the plot showing training accuracy, the version of the network without dropout (0.00 dropout) achieves higher accuracy compared to the network with 0.60 dropout.In 5h3 plot showing validation accuracy , the network with 0.60 dropout seems to perform slightly better or nearly the same as the network without dropout. This suggests that dropout is perform regularization because the dropout helps the network generalize better, result in slightly improved validation accuracy despite the lower training accuracy."
   ]
  },
  {
   "cell_type": "markdown",
   "metadata": {},
   "source": [
    "## Final part of the assignment\n",
    "\n",
    "Get over 55% validation accuracy on CIFAR-10 by using the layers you have implemented.  You will be graded according to the following equation:\n",
    "\n",
    "min(floor((X - 32%)) / 23%, 1) \n",
    "where if you get 55% or higher validation accuracy, you get full points."
   ]
  },
  {
   "cell_type": "code",
   "execution_count": 10,
   "metadata": {
    "scrolled": false
   },
   "outputs": [
    {
     "name": "stdout",
     "output_type": "stream",
     "text": [
      "(Iteration 1 / 1960) loss: 2.314931\n",
      "(Epoch 0 / 20) train acc: 0.198000; val_acc: 0.214000\n",
      "(Iteration 51 / 1960) loss: 1.842471\n",
      "(Epoch 1 / 20) train acc: 0.373000; val_acc: 0.427000\n",
      "(Iteration 101 / 1960) loss: 1.755018\n",
      "(Iteration 151 / 1960) loss: 1.763183\n",
      "(Epoch 2 / 20) train acc: 0.435000; val_acc: 0.439000\n",
      "(Iteration 201 / 1960) loss: 1.681276\n",
      "(Iteration 251 / 1960) loss: 1.679846\n",
      "(Epoch 3 / 20) train acc: 0.501000; val_acc: 0.481000\n",
      "(Iteration 301 / 1960) loss: 1.564049\n",
      "(Iteration 351 / 1960) loss: 1.585848\n",
      "(Epoch 4 / 20) train acc: 0.454000; val_acc: 0.484000\n",
      "(Iteration 401 / 1960) loss: 1.564793\n",
      "(Iteration 451 / 1960) loss: 1.610001\n",
      "(Epoch 5 / 20) train acc: 0.490000; val_acc: 0.479000\n",
      "(Iteration 501 / 1960) loss: 1.503184\n",
      "(Iteration 551 / 1960) loss: 1.532982\n",
      "(Epoch 6 / 20) train acc: 0.535000; val_acc: 0.482000\n",
      "(Iteration 601 / 1960) loss: 1.565701\n",
      "(Iteration 651 / 1960) loss: 1.558265\n",
      "(Epoch 7 / 20) train acc: 0.525000; val_acc: 0.493000\n",
      "(Iteration 701 / 1960) loss: 1.455561\n",
      "(Iteration 751 / 1960) loss: 1.512366\n",
      "(Epoch 8 / 20) train acc: 0.509000; val_acc: 0.506000\n",
      "(Iteration 801 / 1960) loss: 1.479791\n",
      "(Iteration 851 / 1960) loss: 1.586395\n",
      "(Epoch 9 / 20) train acc: 0.522000; val_acc: 0.513000\n",
      "(Iteration 901 / 1960) loss: 1.446316\n",
      "(Iteration 951 / 1960) loss: 1.474590\n",
      "(Epoch 10 / 20) train acc: 0.498000; val_acc: 0.512000\n",
      "(Iteration 1001 / 1960) loss: 1.464989\n",
      "(Iteration 1051 / 1960) loss: 1.447916\n",
      "(Epoch 11 / 20) train acc: 0.555000; val_acc: 0.511000\n",
      "(Iteration 1101 / 1960) loss: 1.485512\n",
      "(Iteration 1151 / 1960) loss: 1.419506\n",
      "(Epoch 12 / 20) train acc: 0.558000; val_acc: 0.517000\n",
      "(Iteration 1201 / 1960) loss: 1.422582\n",
      "(Iteration 1251 / 1960) loss: 1.415806\n",
      "(Epoch 13 / 20) train acc: 0.557000; val_acc: 0.506000\n",
      "(Iteration 1301 / 1960) loss: 1.509935\n",
      "(Iteration 1351 / 1960) loss: 1.360438\n",
      "(Epoch 14 / 20) train acc: 0.558000; val_acc: 0.513000\n",
      "(Iteration 1401 / 1960) loss: 1.543011\n",
      "(Iteration 1451 / 1960) loss: 1.385187\n",
      "(Epoch 15 / 20) train acc: 0.556000; val_acc: 0.522000\n",
      "(Iteration 1501 / 1960) loss: 1.435199\n",
      "(Iteration 1551 / 1960) loss: 1.476030\n",
      "(Epoch 16 / 20) train acc: 0.588000; val_acc: 0.527000\n",
      "(Iteration 1601 / 1960) loss: 1.402140\n",
      "(Iteration 1651 / 1960) loss: 1.413720\n",
      "(Epoch 17 / 20) train acc: 0.575000; val_acc: 0.521000\n",
      "(Iteration 1701 / 1960) loss: 1.362955\n",
      "(Iteration 1751 / 1960) loss: 1.376313\n",
      "(Epoch 18 / 20) train acc: 0.583000; val_acc: 0.526000\n",
      "(Iteration 1801 / 1960) loss: 1.293263\n",
      "(Iteration 1851 / 1960) loss: 1.463533\n",
      "(Epoch 19 / 20) train acc: 0.598000; val_acc: 0.521000\n",
      "(Iteration 1901 / 1960) loss: 1.369234\n",
      "(Iteration 1951 / 1960) loss: 1.398259\n",
      "(Epoch 20 / 20) train acc: 0.583000; val_acc: 0.528000\n",
      "Validation set accuracy: 0.552\n",
      "Test set accuracy: 0.532\n"
     ]
    }
   ],
   "source": [
    "# ================================================================ #\n",
    "# YOUR CODE HERE:\n",
    "#   Implement a FC-net that achieves at least 55% validation accuracy\n",
    "#   on CIFAR-10.\n",
    "# ================================================================ #\n",
    "optimizer = 'adam'\n",
    "layer_dims = [300, 300, 300]\n",
    "weight_scale = 0.01\n",
    "learning_rate = 1e-3\n",
    "lr_decay = 0.95\n",
    "\n",
    "solvers = {}\n",
    "model = FullyConnectedNet(layer_dims, weight_scale = weight_scale, dropout = dropout,\n",
    "                          use_batchnorm=True)\n",
    "\n",
    "solver = Solver(model, data,\n",
    "                num_epochs = 20, batch_size = 500,\n",
    "                update_rule = optimizer,\n",
    "                optim_config = {\n",
    "                  'learning_rate': learning_rate,\n",
    "                },\n",
    "                lr_decay = lr_decay,\n",
    "                verbose=True, print_every = 50)\n",
    "solver.train()\n",
    "\n",
    "y_test_pred = np.argmax(model.loss(data[\"X_test\"]), axis=1)\n",
    "y_val_pred = np.argmax(model.loss(data[\"X_val\"]), axis=1)\n",
    "print(\"Validation set accuracy: {}\".format(np.mean(y_val_pred == data[\"y_val\"])))\n",
    "print(\"Test set accuracy: {}\".format(np.mean(y_test_pred == data[\"y_test\"])))\n",
    "# ================================================================ #\n",
    "# END YOUR CODE HERE\n",
    "# ================================================================ #\n"
   ]
  }
 ],
 "metadata": {
  "kernelspec": {
   "display_name": "Python 3 (ipykernel)",
   "language": "python",
   "name": "python3"
  },
  "language_info": {
   "codemirror_mode": {
    "name": "ipython",
    "version": 3
   },
   "file_extension": ".py",
   "mimetype": "text/x-python",
   "name": "python",
   "nbconvert_exporter": "python",
   "pygments_lexer": "ipython3",
   "version": "3.12.0"
  }
 },
 "nbformat": 4,
 "nbformat_minor": 2
}
